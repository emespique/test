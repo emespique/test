{
  "nbformat": 4,
  "nbformat_minor": 0,
  "metadata": {
    "colab": {
      "name": "Palindrome.ipynb",
      "provenance": [],
      "collapsed_sections": []
    },
    "kernelspec": {
      "name": "python3",
      "display_name": "Python 3"
    }
  },
  "cells": [
    {
      "cell_type": "code",
      "metadata": {
        "id": "6gh8llqTLUBr",
        "colab_type": "code",
        "colab": {}
      },
      "source": [
        "# input\n",
        "orig_word = input('Enter a word or phrase: ')\n",
        "word = orig_word.lower().replace(\" \",\"\")\n",
        "\n",
        "# processing\n",
        "def isPalindrome(word):\n",
        "  return word == word[::-1]\n",
        "\n",
        "if isPalindrome(word):\n",
        "    print(f'\"{orig_word}\" is a palindrome.')\n",
        "else:\n",
        "    print(f'\"{orig_word}\" is NOT a palindrome.')"
      ],
      "execution_count": null,
      "outputs": []
    }
  ]
}
