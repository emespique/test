{
  "nbformat": 4,
  "nbformat_minor": 0,
  "metadata": {
    "colab": {
      "name": "Palindrome.ipynb",
      "provenance": [],
      "collapsed_sections": []
    },
    "kernelspec": {
      "name": "python3",
      "display_name": "Python 3"
    }
  },
  "cells": [
    {
      "cell_type": "code",
      "metadata": {
        "id": "6gh8llqTLUBr",
        "colab_type": "code",
        "colab": {}
      },
      "source": [
        "# input\n",
        "orig_word = input('Enter a word or phrase: ')\n",
        "word = orig_word.lower().replace(\" \",\"\")\n",
        "\n",
        "# processing\n",
        "def isPalindrome(word):\n",
        "  palindrome = True\n",
        "  if (word.isspace() or (len(word)<=1)):\n",
        "    palindrome = False\n",
        "  else: \n",
        "    for i in range(len(word)//2):\n",
        "        if word[i] != word[-1 - i]:\n",
        "            palindrome = False\n",
        "            break\n",
        "  return palindrome\n",
        "\n",
        "\n",
        "if isPalindrome(word):\n",
        "    print(f'\"{orig_word}\" is a palindrome.')\n",
        "else:\n",
        "    print(f'\"{orig_word}\" is NOT a palindrome.')"
      ],
      "execution_count": null,
      "outputs": []
    }
  ]
}